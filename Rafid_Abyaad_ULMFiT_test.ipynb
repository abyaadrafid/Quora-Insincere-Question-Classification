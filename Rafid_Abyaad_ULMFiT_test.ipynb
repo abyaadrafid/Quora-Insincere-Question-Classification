{
 "cells": [
  {
   "cell_type": "code",
   "execution_count": 1,
   "metadata": {
    "_cell_guid": "b1076dfc-b9ad-4769-8c92-a6c4dae69d19",
    "_uuid": "8f2839f25d086af736a60e9eeb907d3b93b6e0e5"
   },
   "outputs": [
    {
     "name": "stdout",
     "output_type": "stream",
     "text": [
      "/kaggle/input/quora-insincere-questions-classification/test.csv\n",
      "/kaggle/input/quora-insincere-questions-classification/train.csv\n",
      "/kaggle/input/quora-insincere-questions-classification/sample_submission.csv\n",
      "/kaggle/input/quora-insincere-questions-classification/embeddings/wiki-news-300d-1M/wiki-news-300d-1M.vec\n",
      "/kaggle/input/quora-insincere-questions-classification/embeddings/glove.840B.300d/glove.840B.300d.txt\n",
      "/kaggle/input/quora-insincere-questions-classification/embeddings/paragram_300_sl999/paragram_300_sl999.txt\n",
      "/kaggle/input/quora-insincere-questions-classification/embeddings/paragram_300_sl999/README.txt\n",
      "/kaggle/input/quora-insincere-questions-classification/embeddings/GoogleNews-vectors-negative300/GoogleNews-vectors-negative300.bin\n",
      "/kaggle/input/quoratest/custom.css\n",
      "/kaggle/input/quoratest/__results__.html\n",
      "/kaggle/input/quoratest/__output__.json\n",
      "/kaggle/input/quoratest/__notebook__.ipynb\n",
      "/kaggle/input/quoratest/gen2.pth\n",
      "/kaggle/input/quoratest/__results___files/__results___8_1.png\n",
      "/kaggle/input/quoratest/models/tmp.pth\n"
     ]
    }
   ],
   "source": [
    "# This Python 3 environment comes with many helpful analytics libraries installed\n",
    "# It is defined by the kaggle/python docker image: https://github.com/kaggle/docker-python\n",
    "# For example, here's several helpful packages to load in \n",
    "\n",
    "import numpy as np # linear algebra\n",
    "import pandas as pd # data processing, CSV file I/O (e.g. pd.read_csv)\n",
    "\n",
    "# Input data files are available in the \"../input/\" directory.\n",
    "# For example, running this (by clicking run or pressing Shift+Enter) will list all files under the input directory\n",
    "\n",
    "import os\n",
    "for dirname, _, filenames in os.walk('/kaggle/input'):\n",
    "    for filename in filenames:\n",
    "        print(os.path.join(dirname, filename))\n",
    "\n",
    "# Any results you write to the current directory are saved as output."
   ]
  },
  {
   "cell_type": "code",
   "execution_count": 2,
   "metadata": {
    "_cell_guid": "79c7e3d0-c299-4dcb-8224-4455121ee9b0",
    "_uuid": "d629ff2d2480ee46fbb7e2d37f6b5fab8052498a"
   },
   "outputs": [],
   "source": [
    "from fastai import *\n",
    "from fastai.text import *\n",
    "from fastai.callbacks import *"
   ]
  },
  {
   "cell_type": "code",
   "execution_count": 3,
   "metadata": {},
   "outputs": [],
   "source": [
    "data_lm = TextLMDataBunch.from_csv('/kaggle/input/quora-insincere-questions-classification/','train.csv',text_cols= 'question_text')"
   ]
  },
  {
   "cell_type": "code",
   "execution_count": 4,
   "metadata": {},
   "outputs": [
    {
     "data": {
      "text/html": [
       "<table border=\"1\" class=\"dataframe\">\n",
       "  <thead>\n",
       "    <tr style=\"text-align: right;\">\n",
       "      <th>idx</th>\n",
       "      <th>text</th>\n",
       "    </tr>\n",
       "  </thead>\n",
       "  <tbody>\n",
       "    <tr>\n",
       "      <td>0</td>\n",
       "      <td>xxbos xxmaj who are some unknown teenage xxmaj quorans ? xxbos xxmaj how dimensionality is reduced based on autoencoder ? xxbos xxmaj was xxmaj france a part of the alliance with xxmaj britain , the xxup usa and the xxup ussr in 1945 after xxup ww2 ? xxbos xxmaj what question can i discuss as a topic on ' xxunk ' for a literature review ? xxbos xxmaj what all</td>\n",
       "    </tr>\n",
       "    <tr>\n",
       "      <td>1</td>\n",
       "      <td>martial artist ever ? xxbos xxmaj what are the 5 things that would make cold calling effective if one is seeking a meeting to speak about investment options or wealth management ? xxbos xxmaj does cubical xxunk depend on the initial volume ? xxbos xxmaj how can i install three xxup os on my laptop ? xxbos xxmaj what are some factors that affect libido ? xxbos xxmaj if the</td>\n",
       "    </tr>\n",
       "    <tr>\n",
       "      <td>2</td>\n",
       "      <td>long - xxmaj term xxmaj fat xxmaj loss ? xxbos xxmaj is it possible to become an xxup ies officer without coaching ? xxbos xxmaj what are the xxmaj paytm share price fluctuations over the past 2 years and why ? xxbos xxmaj how many squats must i do to burn 100 calories ? xxbos xxmaj could it be assumed that xxmaj polonius had some culpability in the murder of</td>\n",
       "    </tr>\n",
       "    <tr>\n",
       "      <td>3</td>\n",
       "      <td>had not broken down , life would not have developed on xxmaj earth . xxmaj why ? xxbos xxmaj at what stage in the drug development pipeline is a new lead compound typically patented ? xxbos xxmaj when will xxmaj sm - xxup j700f xxmaj android version xxmaj xxunk xxunk ? xxbos xxmaj what is the best way to have xxmaj many xxunk on xxmaj facebook group ? xxbos xxmaj</td>\n",
       "    </tr>\n",
       "    <tr>\n",
       "      <td>4</td>\n",
       "      <td>xxmaj what should i include in my appeal ? xxbos xxmaj is it alright to address a steward / flight attendant by their name ? xxmaj this question is based on varied comments shot for an answer by xxmaj jake xxmaj williams . xxbos xxmaj what is the best kind of xxunk and meditation for mental disorders ? xxbos xxmaj how can the government tolerate xxmaj violence created by xxmaj</td>\n",
       "    </tr>\n",
       "  </tbody>\n",
       "</table>"
      ],
      "text/plain": [
       "<IPython.core.display.HTML object>"
      ]
     },
     "metadata": {},
     "output_type": "display_data"
    }
   ],
   "source": [
    "data_lm.show_batch()"
   ]
  },
  {
   "cell_type": "code",
   "execution_count": 5,
   "metadata": {},
   "outputs": [],
   "source": [
    "learner= language_model_learner(data_lm,AWD_LSTM,metrics=accuracy,path='/kaggle/working')"
   ]
  },
  {
   "cell_type": "code",
   "execution_count": 6,
   "metadata": {},
   "outputs": [],
   "source": [
    "learner.load('/kaggle/input/quoratest/gen2');"
   ]
  },
  {
   "cell_type": "code",
   "execution_count": 7,
   "metadata": {},
   "outputs": [],
   "source": [
    "learner.save_encoder('fine_tuned_enc')"
   ]
  },
  {
   "cell_type": "code",
   "execution_count": 8,
   "metadata": {},
   "outputs": [],
   "source": [
    "data_class = TextClasDataBunch.from_csv('/kaggle/input/quora-insincere-questions-classification/','train.csv',\n",
    "                                        valid_pct=0.05, vocab=data_lm.vocab,label_cols='target')"
   ]
  },
  {
   "cell_type": "code",
   "execution_count": 9,
   "metadata": {},
   "outputs": [
    {
     "data": {
      "text/html": [
       "<table border=\"1\" class=\"dataframe\">\n",
       "  <thead>\n",
       "    <tr style=\"text-align: right;\">\n",
       "      <th>text</th>\n",
       "      <th>target</th>\n",
       "    </tr>\n",
       "  </thead>\n",
       "  <tbody>\n",
       "    <tr>\n",
       "      <td>xxbos xxmaj what is [ math ] \\ frac { \\ xxunk } } \\ tan ( \\ tan ( { \\ boxed { \\ xxunk } \\ sum _ { \\ xxunk { \\ infty } \\ xxunk } \\ sum _ { \\ xxunk { \\ infty } \\ underbrace { \\ xxunk } } _ { \\ xxunk 's xxmaj law of xxmaj theoretical xxmaj probability .</td>\n",
       "      <td>1</td>\n",
       "    </tr>\n",
       "    <tr>\n",
       "      <td>xxbos xxmaj there 's this girl that i 've known since i was 5 ( 20 now ) . i 've had a crush on her since i was 10 . xxmaj what would be the best way to go about asking her out ? xxmaj at this point , i really just want to know whether or not i would \" have a shot \" with her .</td>\n",
       "      <td>0</td>\n",
       "    </tr>\n",
       "    <tr>\n",
       "      <td>xxbos xxmaj what is the etymology of the xxmaj spanish word \" mar \" , the xxmaj english word \" ocean \" or its xxmaj spanish cognate \" xxunk \" and the xxmaj english word \" sea \" ? xxmaj are all related to the concept of a world river or the like , the same way the word \" ocean \" is ?</td>\n",
       "      <td>0</td>\n",
       "    </tr>\n",
       "    <tr>\n",
       "      <td>xxbos xxmaj if one have n’t being getting enough sleep for 3 - 4 mnths ( constantly sleeping from 2 - 7 am ) , and now wants to make up for the bad habit , by getting enough and proper rest ( that can remedy any damage that might have been done ) , how does he go about it ?</td>\n",
       "      <td>0</td>\n",
       "    </tr>\n",
       "    <tr>\n",
       "      <td>xxbos xxmaj you have been locked in a room by your kidnapper for a long time . xxmaj one day , an opportunity for you to escape appears and as you escape , you stumble across two things : a cellphone and a gun . xxmaj if you could only take one with you , which would you take ?</td>\n",
       "      <td>0</td>\n",
       "    </tr>\n",
       "  </tbody>\n",
       "</table>"
      ],
      "text/plain": [
       "<IPython.core.display.HTML object>"
      ]
     },
     "metadata": {},
     "output_type": "display_data"
    }
   ],
   "source": [
    "data_class.show_batch()"
   ]
  },
  {
   "cell_type": "code",
   "execution_count": 10,
   "metadata": {},
   "outputs": [],
   "source": [
    "classifier = text_classifier_learner(data_class, AWD_LSTM,drop_mult = 0.1,path='/kaggle/working')\n",
    "classifier.metrics = [accuracy,FBeta(beta=1)]\n",
    "classifier.load_encoder('fine_tuned_enc');"
   ]
  },
  {
   "cell_type": "code",
   "execution_count": 11,
   "metadata": {},
   "outputs": [
    {
     "data": {
      "text/html": [
       "\n",
       "    <div>\n",
       "        <style>\n",
       "            /* Turns off some styling */\n",
       "            progress {\n",
       "                /* gets rid of default border in Firefox and Opera. */\n",
       "                border: none;\n",
       "                /* Needs to be in here for Safari polyfill so background images work as expected. */\n",
       "                background-size: auto;\n",
       "            }\n",
       "            .progress-bar-interrupted, .progress-bar-interrupted::-webkit-progress-bar {\n",
       "                background: #F44336;\n",
       "            }\n",
       "        </style>\n",
       "      <progress value='8' class='' max='10', style='width:300px; height:20px; vertical-align: middle;'></progress>\n",
       "      80.00% [8/10 49:25<12:21]\n",
       "    </div>\n",
       "    \n",
       "<table border=\"1\" class=\"dataframe\">\n",
       "  <thead>\n",
       "    <tr style=\"text-align: left;\">\n",
       "      <th>epoch</th>\n",
       "      <th>train_loss</th>\n",
       "      <th>valid_loss</th>\n",
       "      <th>accuracy</th>\n",
       "      <th>f_beta</th>\n",
       "      <th>time</th>\n",
       "    </tr>\n",
       "  </thead>\n",
       "  <tbody>\n",
       "    <tr>\n",
       "      <td>0</td>\n",
       "      <td>0.225814</td>\n",
       "      <td>0.447693</td>\n",
       "      <td>0.929456</td>\n",
       "      <td>0.404550</td>\n",
       "      <td>06:26</td>\n",
       "    </tr>\n",
       "    <tr>\n",
       "      <td>1</td>\n",
       "      <td>0.214352</td>\n",
       "      <td>0.196970</td>\n",
       "      <td>0.937311</td>\n",
       "      <td>0.025238</td>\n",
       "      <td>06:04</td>\n",
       "    </tr>\n",
       "    <tr>\n",
       "      <td>2</td>\n",
       "      <td>0.195434</td>\n",
       "      <td>0.218698</td>\n",
       "      <td>0.939425</td>\n",
       "      <td>0.278366</td>\n",
       "      <td>06:09</td>\n",
       "    </tr>\n",
       "    <tr>\n",
       "      <td>3</td>\n",
       "      <td>0.218628</td>\n",
       "      <td>0.199128</td>\n",
       "      <td>0.939516</td>\n",
       "      <td>0.315425</td>\n",
       "      <td>06:26</td>\n",
       "    </tr>\n",
       "    <tr>\n",
       "      <td>4</td>\n",
       "      <td>0.199436</td>\n",
       "      <td>0.245087</td>\n",
       "      <td>0.937756</td>\n",
       "      <td>0.380996</td>\n",
       "      <td>05:58</td>\n",
       "    </tr>\n",
       "    <tr>\n",
       "      <td>5</td>\n",
       "      <td>0.219488</td>\n",
       "      <td>0.740582</td>\n",
       "      <td>0.939853</td>\n",
       "      <td>0.178586</td>\n",
       "      <td>05:54</td>\n",
       "    </tr>\n",
       "    <tr>\n",
       "      <td>6</td>\n",
       "      <td>0.220863</td>\n",
       "      <td>0.237752</td>\n",
       "      <td>0.937373</td>\n",
       "      <td>0.058905</td>\n",
       "      <td>06:26</td>\n",
       "    </tr>\n",
       "    <tr>\n",
       "      <td>7</td>\n",
       "      <td>0.210498</td>\n",
       "      <td>0.234848</td>\n",
       "      <td>0.939501</td>\n",
       "      <td>0.312511</td>\n",
       "      <td>05:58</td>\n",
       "    </tr>\n",
       "  </tbody>\n",
       "</table><p>\n",
       "\n",
       "    <div>\n",
       "        <style>\n",
       "            /* Turns off some styling */\n",
       "            progress {\n",
       "                /* gets rid of default border in Firefox and Opera. */\n",
       "                border: none;\n",
       "                /* Needs to be in here for Safari polyfill so background images work as expected. */\n",
       "                background-size: auto;\n",
       "            }\n",
       "            .progress-bar-interrupted, .progress-bar-interrupted::-webkit-progress-bar {\n",
       "                background: #F44336;\n",
       "            }\n",
       "        </style>\n",
       "      <progress value='19271' class='' max='19387', style='width:300px; height:20px; vertical-align: middle;'></progress>\n",
       "      99.40% [19271/19387 05:46<00:02 0.2013]\n",
       "    </div>\n",
       "    "
      ],
      "text/plain": [
       "<IPython.core.display.HTML object>"
      ]
     },
     "metadata": {},
     "output_type": "display_data"
    }
   ],
   "source": [
    "classifier.fit(10,1e-1)"
   ]
  },
  {
   "cell_type": "code",
   "execution_count": 12,
   "metadata": {},
   "outputs": [
    {
     "data": {
      "image/png": "[encoded data removed]",
      "text/plain": [
       "<Figure size 432x576 with 2 Axes>"
      ]
     },
     "metadata": {
      "needs_background": "light"
     },
     "output_type": "display_data"
    }
   ],
   "source": [
    "classifier.recorder.plot_metrics()"
   ]
  },
  {
   "cell_type": "code",
   "execution_count": 13,
   "metadata": {},
   "outputs": [],
   "source": [
    "classifier.save('/kaggle/working/classifier')"
   ]
  }
 ],
 "metadata": {
  "kernelspec": {
   "display_name": "Python 3",
   "language": "python",
   "name": "python3"
  },
  "language_info": {
   "codemirror_mode": {
    "name": "ipython",
    "version": 3
   },
   "file_extension": ".py",
   "mimetype": "text/x-python",
   "name": "python",
   "nbconvert_exporter": "python",
   "pygments_lexer": "ipython3",
   "version": "3.6.6"
  }
 },
 "nbformat": 4,
 "nbformat_minor": 1
}
